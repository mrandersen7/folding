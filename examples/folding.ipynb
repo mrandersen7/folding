{
 "cells": [
  {
   "cell_type": "markdown",
   "metadata": {},
   "source": [
    "# Introduction\n",
    "\n",
    "**This demo shows to run a distributed simulation of protein folding using GROMACS within a bittensor subnet**\n",
    "\n",
    "In this subnet:\n",
    "- Validators select a protein (pbd_id), download the structure and preprare input files\n",
    "- Miners run the simulation and send back their results\n",
    "- Scoring is based on free energy of the folded structure"
   ]
  },
  {
   "cell_type": "code",
   "execution_count": null,
   "metadata": {},
   "outputs": [],
   "source": [
    "import bittensor as bt\n",
    "\n",
    "from folding.protocol import Synapse\n",
    "from folding.miners.forward import forward\n",
    "from folding.validators.protein import Protein\n",
    "from typing import Tuple\n",
    "\n",
    "\n",
    "bt.trace()\n"
   ]
  },
  {
   "cell_type": "markdown",
   "metadata": {},
   "source": [
    "### Protein class is contains the protein sequence and the current state of the protein folding simulation."
   ]
  },
  {
   "cell_type": "code",
   "execution_count": null,
   "metadata": {},
   "outputs": [],
   "source": [
    "protein = Protein(max_steps=500)\n",
    "protein"
   ]
  },
  {
   "cell_type": "markdown",
   "metadata": {},
   "source": [
    "### validator is currently responsible for preparing the protein for the simulation."
   ]
  },
  {
   "cell_type": "code",
   "execution_count": null,
   "metadata": {},
   "outputs": [],
   "source": [
    "protein.md_inputs"
   ]
  },
  {
   "cell_type": "markdown",
   "metadata": {},
   "source": [
    "# Simulation using only Synapse"
   ]
  },
  {
   "cell_type": "code",
   "execution_count": null,
   "metadata": {},
   "outputs": [],
   "source": [
    "synapse = Synapse(pdb_id=protein.pdb_id, md_inputs=protein.md_inputs)#, mdrun_args='-maxh 0.01')\n",
    "synapse"
   ]
  },
  {
   "cell_type": "markdown",
   "metadata": {},
   "source": [
    "### Simulate the miner receiving the synapse and performing the md simulation."
   ]
  },
  {
   "cell_type": "code",
   "execution_count": null,
   "metadata": {},
   "outputs": [],
   "source": [
    "forward(synapse)"
   ]
  },
  {
   "cell_type": "markdown",
   "metadata": {},
   "source": [
    "### Simulation results are attached to synapse"
   ]
  },
  {
   "cell_type": "code",
   "execution_count": null,
   "metadata": {},
   "outputs": [],
   "source": [
    "synapse.md_output.keys()"
   ]
  },
  {
   "cell_type": "markdown",
   "metadata": {},
   "source": [
    "### Perform reward calculation for miner"
   ]
  },
  {
   "cell_type": "code",
   "execution_count": null,
   "metadata": {},
   "outputs": [],
   "source": [
    "reward = protein.reward(synapse.md_output)\n",
    "\n",
    "reward"
   ]
  },
  {
   "cell_type": "markdown",
   "metadata": {},
   "source": [
    "# Simulation using Dendrite"
   ]
  },
  {
   "cell_type": "code",
   "execution_count": null,
   "metadata": {},
   "outputs": [],
   "source": [
    "\n",
    "def blacklist( synapse: Synapse ) -> Tuple[bool, str]:\n",
    "    \"\"\"\n",
    "    Determines if the provided synapse should be blacklisted.\n",
    "\n",
    "    Args:\n",
    "        synapse (Prompting): The input synapse to be evaluated.\n",
    "\n",
    "    Returns:\n",
    "        Tuple[bool, str]: A tuple containing a boolean that indicates whether the synapse is blacklisted,\n",
    "                          and a string providing the reason.\n",
    "    \"\"\"\n",
    "    return False, \"\"\n",
    "\n",
    "def priority( synapse: Synapse ) -> float:\n",
    "    \"\"\"\n",
    "    Determines the priority of the provided synapse.\n",
    "\n",
    "    Args:\n",
    "        synapse (Prompting): The input synapse to be evaluated.\n",
    "\n",
    "    Returns:\n",
    "        float: The priority value of the synapse, with higher values indicating higher priority.\n",
    "    \"\"\"\n",
    "    return 0.0"
   ]
  },
  {
   "cell_type": "code",
   "execution_count": null,
   "metadata": {},
   "outputs": [],
   "source": [
    "# Create an Axon instance on port 8099.\n",
    "axon = bt.axon(port=8098)\n",
    "\n",
    "# Attach the forward, blacklist, and priority functions to the Axon.\n",
    "# forward_fn: The function to handle forwarding logic.\n",
    "# blacklist_fn: The function to determine if a request should be blacklisted.\n",
    "# priority_fn: The function to determine the priority of the request.\n",
    "axon.attach(\n",
    "    forward_fn=forward,\n",
    "    blacklist_fn=blacklist,\n",
    "    priority_fn=priority\n",
    ")\n",
    "\n",
    "# Start the Axon to begin listening for requests.\n",
    "axon.start()\n",
    "\n",
    "# Create a Dendrite instance to handle client-side communication.\n",
    "dendrite = bt.dendrite()\n",
    "\n",
    "# Send a request to the Axon using the Dendrite, passing in a StreamPrompting instance with roles and messages.\n",
    "# The response is awaited, as the Dendrite communicates asynchronously with the Axon.\n",
    "resp = await dendrite(\n",
    "    [axon],\n",
    "    Synapse(pdb_id=protein.pdb_id, md_inputs=protein.md_inputs),\n",
    "    deserialize=True\n",
    ")\n",
    "\n",
    "# The response object contains the result of the prompting operation.\n",
    "resp"
   ]
  },
  {
   "cell_type": "markdown",
   "metadata": {},
   "source": [
    "# Outlook\n",
    "We have demonstrated that a molecular dynamics simulation can be carried out in the context of a subnet.\n",
    "\n",
    "## Remaining Steps\n",
    "- Use Gromacs python API\n",
    "- Run on staging\n",
    "- Run on testnet\n",
    "- Run on mainnet\n",
    "\n",
    "\n",
    "## Opportunities for Improvements\n",
    "- Improved customization of input files (e.g. force field, box, mdp templates)\n",
    "- Performance optimization (file usage, simulation length, parallelization)\n",
    "- Allow for different miners (e.g. AI models versus GPU models versus CPU models)\n",
    "- Perturbation of the structure (e.g. mutation) to prevent lookup attacks\n",
    "- More complex scoring function (e.g. based on RMSD)\n",
    "- More complex simulation (e.g. folding of a protein with multiple chains)"
   ]
  },
  {
   "cell_type": "markdown",
   "metadata": {},
   "source": []
  }
 ],
 "metadata": {
  "kernelspec": {
   "display_name": "rev2",
   "language": "python",
   "name": "python3"
  },
  "language_info": {
   "codemirror_mode": {
    "name": "ipython",
    "version": 3
   },
   "file_extension": ".py",
   "mimetype": "text/x-python",
   "name": "python",
   "nbconvert_exporter": "python",
   "pygments_lexer": "ipython3",
   "version": "3.9.5"
  },
  "orig_nbformat": 4
 },
 "nbformat": 4,
 "nbformat_minor": 2
}
